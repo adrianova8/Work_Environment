{
 "cells": [
  {
   "cell_type": "code",
   "execution_count": 1,
   "id": "fe9ed021",
   "metadata": {},
   "outputs": [
    {
     "name": "stdout",
     "output_type": "stream",
     "text": [
      "Hello Jupyter!\n"
     ]
    }
   ],
   "source": [
    "print('Hello Jupyter!')"
   ]
  },
  {
   "cell_type": "code",
   "execution_count": 2,
   "id": "1dcdf193",
   "metadata": {},
   "outputs": [
    {
     "name": "stdout",
     "output_type": "stream",
     "text": [
      "Hello Jupyter!\n"
     ]
    }
   ],
   "source": [
    "print('Hello Jupyter!')"
   ]
  },
  {
   "cell_type": "code",
   "execution_count": 3,
   "id": "85c49595",
   "metadata": {},
   "outputs": [
    {
     "name": "stdout",
     "output_type": "stream",
     "text": [
      "Hello Jupyter!\n",
      "Hello Jupyter!\n"
     ]
    }
   ],
   "source": [
    "print('Hello Jupyter!')\n",
    "print('Hello Jupyter!')"
   ]
  },
  {
   "cell_type": "markdown",
   "id": "0fb32660",
   "metadata": {},
   "source": [
    "User single _underscores_ or single *asterisks* to get italics"
   ]
  },
  {
   "cell_type": "code",
   "execution_count": 4,
   "id": "95d4ce88",
   "metadata": {},
   "outputs": [],
   "source": [
    "#Header 1\n",
    "##Header 2\n",
    "##Header 3"
   ]
  },
  {
   "cell_type": "code",
   "execution_count": 5,
   "id": "56107002",
   "metadata": {},
   "outputs": [],
   "source": [
    "# Header1\n",
    "## Header 2\n",
    "### Header 3"
   ]
  },
  {
   "cell_type": "markdown",
   "id": "49e52eae",
   "metadata": {},
   "source": [
    "# HEADER 1\n",
    "## HEADER 2\n",
    "### HEADER 3"
   ]
  },
  {
   "cell_type": "markdown",
   "id": "8337dac8",
   "metadata": {},
   "source": [
    "+ item 1\n",
    "+ item 2\n",
    "+ item 3\n",
    "    + sub-item 1"
   ]
  },
  {
   "cell_type": "markdown",
   "id": "22a07483",
   "metadata": {},
   "source": [
    "```python\n",
    "s= \"Syntax highlighting for Python\"\n",
    "print(x)\n",
    "`````\n"
   ]
  },
  {
   "cell_type": "code",
   "execution_count": 6,
   "id": "46efd91c",
   "metadata": {},
   "outputs": [
    {
     "ename": "SyntaxError",
     "evalue": "invalid syntax (<ipython-input-6-c971963a0803>, line 1)",
     "output_type": "error",
     "traceback": [
      "\u001b[0;36m  File \u001b[0;32m\"<ipython-input-6-c971963a0803>\"\u001b[0;36m, line \u001b[0;32m1\u001b[0m\n\u001b[0;31m    ```\u001b[0m\n\u001b[0m    ^\u001b[0m\n\u001b[0;31mSyntaxError\u001b[0m\u001b[0;31m:\u001b[0m invalid syntax\n"
     ]
    }
   ],
   "source": [
    "```\n",
    "Hola mundo\n",
    "```"
   ]
  },
  {
   "cell_type": "code",
   "execution_count": null,
   "id": "1bba632a",
   "metadata": {},
   "outputs": [],
   "source": [
    "```python\n",
    "s= \"Syntax highlighting for Python\"\n",
    "print(x)\n",
    "```"
   ]
  },
  {
   "cell_type": "markdown",
   "id": "fe4e8a3b",
   "metadata": {},
   "source": [
    "```\n",
    "hola mundo\n",
    "```"
   ]
  },
  {
   "cell_type": "markdown",
   "id": "86c28d79",
   "metadata": {},
   "source": [
    "```python\n",
    "s= \"Syntax highlighting for Python\"\n",
    "print(s)\n",
    "```"
   ]
  },
  {
   "cell_type": "raw",
   "id": "a47e8dff",
   "metadata": {},
   "source": [
    "\n"
   ]
  },
  {
   "cell_type": "code",
   "execution_count": null,
   "id": "900a56c5",
   "metadata": {},
   "outputs": [],
   "source": []
  }
 ],
 "metadata": {
  "kernelspec": {
   "display_name": "Python 3",
   "language": "python",
   "name": "python3"
  },
  "language_info": {
   "codemirror_mode": {
    "name": "ipython",
    "version": 3
   },
   "file_extension": ".py",
   "mimetype": "text/x-python",
   "name": "python",
   "nbconvert_exporter": "python",
   "pygments_lexer": "ipython3",
   "version": "3.8.8"
  },
  "toc": {
   "base_numbering": 1,
   "nav_menu": {},
   "number_sections": true,
   "sideBar": true,
   "skip_h1_title": false,
   "title_cell": "Table of Contents",
   "title_sidebar": "Contents",
   "toc_cell": false,
   "toc_position": {},
   "toc_section_display": true,
   "toc_window_display": false
  }
 },
 "nbformat": 4,
 "nbformat_minor": 5
}
